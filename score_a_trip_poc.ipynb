{
 "cells": [
  {
   "cell_type": "code",
   "execution_count": 1,
   "metadata": {},
   "outputs": [],
   "source": [
    "import pandas as pd\n",
    "import numpy as np\n",
    "import matplotlib.pyplot as plt\n",
    "import seaborn as sns"
   ]
  },
  {
   "cell_type": "code",
   "execution_count": 2,
   "metadata": {},
   "outputs": [],
   "source": [
    "%matplotlib inline\n",
    "sns.set_style('darkgrid')"
   ]
  },
  {
   "cell_type": "code",
   "execution_count": 3,
   "metadata": {
    "scrolled": true
   },
   "outputs": [
    {
     "data": {
      "text/html": [
       "<div>\n",
       "<style scoped>\n",
       "    .dataframe tbody tr th:only-of-type {\n",
       "        vertical-align: middle;\n",
       "    }\n",
       "\n",
       "    .dataframe tbody tr th {\n",
       "        vertical-align: top;\n",
       "    }\n",
       "\n",
       "    .dataframe thead th {\n",
       "        text-align: right;\n",
       "    }\n",
       "</style>\n",
       "<table border=\"1\" class=\"dataframe\">\n",
       "  <thead>\n",
       "    <tr style=\"text-align: right;\">\n",
       "      <th></th>\n",
       "      <th>no</th>\n",
       "      <th>trip_start</th>\n",
       "      <th>trip_end</th>\n",
       "      <th>harsh_accl_ctr</th>\n",
       "      <th>harsh_accl_sec</th>\n",
       "      <th>harsh_sev_accl_sec</th>\n",
       "      <th>harsh_brake_ctr</th>\n",
       "      <th>harsh_brake_sec</th>\n",
       "      <th>harsh_sev_brake_sec</th>\n",
       "      <th>harsh_speeding_sec</th>\n",
       "      <th>...</th>\n",
       "      <th>end_odo</th>\n",
       "      <th>sidle_sec</th>\n",
       "      <th>eidle_sec</th>\n",
       "      <th>rdrive_sec</th>\n",
       "      <th>latched_sec</th>\n",
       "      <th>unlatched_sec</th>\n",
       "      <th>dscore</th>\n",
       "      <th>soffset</th>\n",
       "      <th>eoffset</th>\n",
       "      <th>alt_id</th>\n",
       "    </tr>\n",
       "  </thead>\n",
       "  <tbody>\n",
       "    <tr>\n",
       "      <th>0</th>\n",
       "      <td>0</td>\n",
       "      <td>1/17/2020 19:43</td>\n",
       "      <td>1/17/2020 19:49</td>\n",
       "      <td>0</td>\n",
       "      <td>0</td>\n",
       "      <td>0</td>\n",
       "      <td>0</td>\n",
       "      <td>0</td>\n",
       "      <td>0</td>\n",
       "      <td>0</td>\n",
       "      <td>...</td>\n",
       "      <td>20560.078</td>\n",
       "      <td>-1</td>\n",
       "      <td>-1</td>\n",
       "      <td>0</td>\n",
       "      <td>186</td>\n",
       "      <td>0</td>\n",
       "      <td>89.0</td>\n",
       "      <td>-4</td>\n",
       "      <td>-4</td>\n",
       "      <td>WQWRMGR4VXYZYVPF7</td>\n",
       "    </tr>\n",
       "    <tr>\n",
       "      <th>1</th>\n",
       "      <td>1</td>\n",
       "      <td>1/17/2020 17:19</td>\n",
       "      <td>1/17/2020 17:28</td>\n",
       "      <td>0</td>\n",
       "      <td>0</td>\n",
       "      <td>0</td>\n",
       "      <td>0</td>\n",
       "      <td>0</td>\n",
       "      <td>0</td>\n",
       "      <td>0</td>\n",
       "      <td>...</td>\n",
       "      <td>20518.125</td>\n",
       "      <td>-1</td>\n",
       "      <td>-1</td>\n",
       "      <td>0</td>\n",
       "      <td>533</td>\n",
       "      <td>3</td>\n",
       "      <td>89.0</td>\n",
       "      <td>-4</td>\n",
       "      <td>-4</td>\n",
       "      <td>WQWRMGR4VXYZYVPF7</td>\n",
       "    </tr>\n",
       "    <tr>\n",
       "      <th>2</th>\n",
       "      <td>2</td>\n",
       "      <td>1/17/2020 20:50</td>\n",
       "      <td>1/17/2020 21:25</td>\n",
       "      <td>0</td>\n",
       "      <td>0</td>\n",
       "      <td>0</td>\n",
       "      <td>0</td>\n",
       "      <td>0</td>\n",
       "      <td>0</td>\n",
       "      <td>0</td>\n",
       "      <td>...</td>\n",
       "      <td>20593.953</td>\n",
       "      <td>-1</td>\n",
       "      <td>-1</td>\n",
       "      <td>0</td>\n",
       "      <td>1975</td>\n",
       "      <td>38</td>\n",
       "      <td>89.0</td>\n",
       "      <td>-4</td>\n",
       "      <td>-4</td>\n",
       "      <td>WQWRMGR4VXYZYVPF7</td>\n",
       "    </tr>\n",
       "    <tr>\n",
       "      <th>3</th>\n",
       "      <td>3</td>\n",
       "      <td>1/17/2020 19:17</td>\n",
       "      <td>1/17/2020 19:42</td>\n",
       "      <td>0</td>\n",
       "      <td>0</td>\n",
       "      <td>0</td>\n",
       "      <td>1</td>\n",
       "      <td>1</td>\n",
       "      <td>0</td>\n",
       "      <td>0</td>\n",
       "      <td>...</td>\n",
       "      <td>20558.531</td>\n",
       "      <td>-1</td>\n",
       "      <td>-1</td>\n",
       "      <td>0</td>\n",
       "      <td>1477</td>\n",
       "      <td>0</td>\n",
       "      <td>80.0</td>\n",
       "      <td>-4</td>\n",
       "      <td>-4</td>\n",
       "      <td>WQWRMGR4VXYZYVPF7</td>\n",
       "    </tr>\n",
       "    <tr>\n",
       "      <th>4</th>\n",
       "      <td>4</td>\n",
       "      <td>1/17/2020 11:35</td>\n",
       "      <td>1/17/2020 12:02</td>\n",
       "      <td>0</td>\n",
       "      <td>0</td>\n",
       "      <td>0</td>\n",
       "      <td>0</td>\n",
       "      <td>0</td>\n",
       "      <td>0</td>\n",
       "      <td>0</td>\n",
       "      <td>...</td>\n",
       "      <td>20510.938</td>\n",
       "      <td>-1</td>\n",
       "      <td>-1</td>\n",
       "      <td>0</td>\n",
       "      <td>1564</td>\n",
       "      <td>84</td>\n",
       "      <td>94.0</td>\n",
       "      <td>-4</td>\n",
       "      <td>-4</td>\n",
       "      <td>WQWRMGR4VXYZYVPF7</td>\n",
       "    </tr>\n",
       "  </tbody>\n",
       "</table>\n",
       "<p>5 rows × 22 columns</p>\n",
       "</div>"
      ],
      "text/plain": [
       "   no       trip_start         trip_end  harsh_accl_ctr  harsh_accl_sec  \\\n",
       "0   0  1/17/2020 19:43  1/17/2020 19:49               0               0   \n",
       "1   1  1/17/2020 17:19  1/17/2020 17:28               0               0   \n",
       "2   2  1/17/2020 20:50  1/17/2020 21:25               0               0   \n",
       "3   3  1/17/2020 19:17  1/17/2020 19:42               0               0   \n",
       "4   4  1/17/2020 11:35  1/17/2020 12:02               0               0   \n",
       "\n",
       "   harsh_sev_accl_sec  harsh_brake_ctr  harsh_brake_sec  harsh_sev_brake_sec  \\\n",
       "0                   0                0                0                    0   \n",
       "1                   0                0                0                    0   \n",
       "2                   0                0                0                    0   \n",
       "3                   0                1                1                    0   \n",
       "4                   0                0                0                    0   \n",
       "\n",
       "   harsh_speeding_sec  ...    end_odo  sidle_sec  eidle_sec  rdrive_sec  \\\n",
       "0                   0  ...  20560.078         -1         -1           0   \n",
       "1                   0  ...  20518.125         -1         -1           0   \n",
       "2                   0  ...  20593.953         -1         -1           0   \n",
       "3                   0  ...  20558.531         -1         -1           0   \n",
       "4                   0  ...  20510.938         -1         -1           0   \n",
       "\n",
       "   latched_sec  unlatched_sec  dscore  soffset  eoffset             alt_id  \n",
       "0          186              0    89.0       -4       -4  WQWRMGR4VXYZYVPF7  \n",
       "1          533              3    89.0       -4       -4  WQWRMGR4VXYZYVPF7  \n",
       "2         1975             38    89.0       -4       -4  WQWRMGR4VXYZYVPF7  \n",
       "3         1477              0    80.0       -4       -4  WQWRMGR4VXYZYVPF7  \n",
       "4         1564             84    94.0       -4       -4  WQWRMGR4VXYZYVPF7  \n",
       "\n",
       "[5 rows x 22 columns]"
      ]
     },
     "execution_count": 3,
     "metadata": {},
     "output_type": "execute_result"
    }
   ],
   "source": [
    "df1 = pd.read_csv('C:\\\\ds\\\\alt_raw.csv')\n",
    "df1.head()"
   ]
  },
  {
   "cell_type": "code",
   "execution_count": 4,
   "metadata": {},
   "outputs": [
    {
     "data": {
      "text/html": [
       "<div>\n",
       "<style scoped>\n",
       "    .dataframe tbody tr th:only-of-type {\n",
       "        vertical-align: middle;\n",
       "    }\n",
       "\n",
       "    .dataframe tbody tr th {\n",
       "        vertical-align: top;\n",
       "    }\n",
       "\n",
       "    .dataframe thead th {\n",
       "        text-align: right;\n",
       "    }\n",
       "</style>\n",
       "<table border=\"1\" class=\"dataframe\">\n",
       "  <thead>\n",
       "    <tr style=\"text-align: right;\">\n",
       "      <th></th>\n",
       "      <th>no</th>\n",
       "      <th>harsh_accl_ctr</th>\n",
       "      <th>harsh_accl_sec</th>\n",
       "      <th>harsh_sev_accl_sec</th>\n",
       "      <th>harsh_brake_ctr</th>\n",
       "      <th>harsh_brake_sec</th>\n",
       "      <th>harsh_sev_brake_sec</th>\n",
       "      <th>harsh_speeding_sec</th>\n",
       "      <th>harsh_speeding_cnt</th>\n",
       "      <th>begin_odo</th>\n",
       "      <th>end_odo</th>\n",
       "      <th>sidle_sec</th>\n",
       "      <th>eidle_sec</th>\n",
       "      <th>rdrive_sec</th>\n",
       "      <th>latched_sec</th>\n",
       "      <th>unlatched_sec</th>\n",
       "      <th>dscore</th>\n",
       "      <th>soffset</th>\n",
       "      <th>eoffset</th>\n",
       "    </tr>\n",
       "  </thead>\n",
       "  <tbody>\n",
       "    <tr>\n",
       "      <th>count</th>\n",
       "      <td>30744.000000</td>\n",
       "      <td>30744.000000</td>\n",
       "      <td>30744.000000</td>\n",
       "      <td>30744.000000</td>\n",
       "      <td>30744.000000</td>\n",
       "      <td>30744.000000</td>\n",
       "      <td>30744.000000</td>\n",
       "      <td>30744.000000</td>\n",
       "      <td>30744.000000</td>\n",
       "      <td>30744.000000</td>\n",
       "      <td>30744.000000</td>\n",
       "      <td>30744.000000</td>\n",
       "      <td>30744.000000</td>\n",
       "      <td>30744.000000</td>\n",
       "      <td>30744.00000</td>\n",
       "      <td>30744.000000</td>\n",
       "      <td>30725.000000</td>\n",
       "      <td>30744.000000</td>\n",
       "      <td>30744.000000</td>\n",
       "    </tr>\n",
       "    <tr>\n",
       "      <th>mean</th>\n",
       "      <td>15371.500000</td>\n",
       "      <td>1.349694</td>\n",
       "      <td>1.956382</td>\n",
       "      <td>0.141361</td>\n",
       "      <td>0.432475</td>\n",
       "      <td>0.649200</td>\n",
       "      <td>0.217799</td>\n",
       "      <td>6.994796</td>\n",
       "      <td>0.366836</td>\n",
       "      <td>46657.786878</td>\n",
       "      <td>46673.031362</td>\n",
       "      <td>15768.677693</td>\n",
       "      <td>15492.600377</td>\n",
       "      <td>10.106395</td>\n",
       "      <td>868.67096</td>\n",
       "      <td>68.753936</td>\n",
       "      <td>72.353165</td>\n",
       "      <td>-5.770557</td>\n",
       "      <td>-5.770654</td>\n",
       "    </tr>\n",
       "    <tr>\n",
       "      <th>std</th>\n",
       "      <td>8875.172674</td>\n",
       "      <td>2.237627</td>\n",
       "      <td>3.496442</td>\n",
       "      <td>0.704760</td>\n",
       "      <td>0.986059</td>\n",
       "      <td>1.595129</td>\n",
       "      <td>0.763170</td>\n",
       "      <td>56.056302</td>\n",
       "      <td>2.481122</td>\n",
       "      <td>40023.374972</td>\n",
       "      <td>40026.507469</td>\n",
       "      <td>37887.577691</td>\n",
       "      <td>37593.142592</td>\n",
       "      <td>209.600419</td>\n",
       "      <td>1108.25552</td>\n",
       "      <td>347.935584</td>\n",
       "      <td>64.165791</td>\n",
       "      <td>1.410592</td>\n",
       "      <td>1.410504</td>\n",
       "    </tr>\n",
       "    <tr>\n",
       "      <th>min</th>\n",
       "      <td>0.000000</td>\n",
       "      <td>0.000000</td>\n",
       "      <td>0.000000</td>\n",
       "      <td>0.000000</td>\n",
       "      <td>0.000000</td>\n",
       "      <td>0.000000</td>\n",
       "      <td>0.000000</td>\n",
       "      <td>0.000000</td>\n",
       "      <td>0.000000</td>\n",
       "      <td>35.422000</td>\n",
       "      <td>41.656000</td>\n",
       "      <td>-1.000000</td>\n",
       "      <td>-1.000000</td>\n",
       "      <td>0.000000</td>\n",
       "      <td>0.00000</td>\n",
       "      <td>0.000000</td>\n",
       "      <td>-994.000000</td>\n",
       "      <td>-10.000000</td>\n",
       "      <td>-10.000000</td>\n",
       "    </tr>\n",
       "    <tr>\n",
       "      <th>25%</th>\n",
       "      <td>7685.750000</td>\n",
       "      <td>0.000000</td>\n",
       "      <td>0.000000</td>\n",
       "      <td>0.000000</td>\n",
       "      <td>0.000000</td>\n",
       "      <td>0.000000</td>\n",
       "      <td>0.000000</td>\n",
       "      <td>0.000000</td>\n",
       "      <td>0.000000</td>\n",
       "      <td>14967.878750</td>\n",
       "      <td>14986.133000</td>\n",
       "      <td>-1.000000</td>\n",
       "      <td>-1.000000</td>\n",
       "      <td>0.000000</td>\n",
       "      <td>219.00000</td>\n",
       "      <td>0.000000</td>\n",
       "      <td>85.000000</td>\n",
       "      <td>-7.000000</td>\n",
       "      <td>-7.000000</td>\n",
       "    </tr>\n",
       "    <tr>\n",
       "      <th>50%</th>\n",
       "      <td>15371.500000</td>\n",
       "      <td>1.000000</td>\n",
       "      <td>1.000000</td>\n",
       "      <td>0.000000</td>\n",
       "      <td>0.000000</td>\n",
       "      <td>0.000000</td>\n",
       "      <td>0.000000</td>\n",
       "      <td>0.000000</td>\n",
       "      <td>0.000000</td>\n",
       "      <td>37879.000000</td>\n",
       "      <td>37889.414000</td>\n",
       "      <td>-1.000000</td>\n",
       "      <td>-1.000000</td>\n",
       "      <td>0.000000</td>\n",
       "      <td>568.00000</td>\n",
       "      <td>5.000000</td>\n",
       "      <td>89.000000</td>\n",
       "      <td>-7.000000</td>\n",
       "      <td>-7.000000</td>\n",
       "    </tr>\n",
       "    <tr>\n",
       "      <th>75%</th>\n",
       "      <td>23057.250000</td>\n",
       "      <td>2.000000</td>\n",
       "      <td>3.000000</td>\n",
       "      <td>0.000000</td>\n",
       "      <td>1.000000</td>\n",
       "      <td>1.000000</td>\n",
       "      <td>0.000000</td>\n",
       "      <td>0.000000</td>\n",
       "      <td>0.000000</td>\n",
       "      <td>66720.305000</td>\n",
       "      <td>66726.722500</td>\n",
       "      <td>14823.250000</td>\n",
       "      <td>14360.000000</td>\n",
       "      <td>0.000000</td>\n",
       "      <td>1172.25000</td>\n",
       "      <td>35.000000</td>\n",
       "      <td>94.000000</td>\n",
       "      <td>-4.000000</td>\n",
       "      <td>-4.000000</td>\n",
       "    </tr>\n",
       "    <tr>\n",
       "      <th>max</th>\n",
       "      <td>30743.000000</td>\n",
       "      <td>42.000000</td>\n",
       "      <td>61.000000</td>\n",
       "      <td>24.000000</td>\n",
       "      <td>19.000000</td>\n",
       "      <td>26.000000</td>\n",
       "      <td>17.000000</td>\n",
       "      <td>1848.000000</td>\n",
       "      <td>67.000000</td>\n",
       "      <td>353702.656000</td>\n",
       "      <td>353711.438000</td>\n",
       "      <td>778544.000000</td>\n",
       "      <td>778591.000000</td>\n",
       "      <td>14400.000000</td>\n",
       "      <td>32255.00000</td>\n",
       "      <td>30598.000000</td>\n",
       "      <td>100.000000</td>\n",
       "      <td>-2.000000</td>\n",
       "      <td>-2.000000</td>\n",
       "    </tr>\n",
       "  </tbody>\n",
       "</table>\n",
       "</div>"
      ],
      "text/plain": [
       "                 no  harsh_accl_ctr  harsh_accl_sec  harsh_sev_accl_sec  \\\n",
       "count  30744.000000    30744.000000    30744.000000        30744.000000   \n",
       "mean   15371.500000        1.349694        1.956382            0.141361   \n",
       "std     8875.172674        2.237627        3.496442            0.704760   \n",
       "min        0.000000        0.000000        0.000000            0.000000   \n",
       "25%     7685.750000        0.000000        0.000000            0.000000   \n",
       "50%    15371.500000        1.000000        1.000000            0.000000   \n",
       "75%    23057.250000        2.000000        3.000000            0.000000   \n",
       "max    30743.000000       42.000000       61.000000           24.000000   \n",
       "\n",
       "       harsh_brake_ctr  harsh_brake_sec  harsh_sev_brake_sec  \\\n",
       "count     30744.000000     30744.000000         30744.000000   \n",
       "mean          0.432475         0.649200             0.217799   \n",
       "std           0.986059         1.595129             0.763170   \n",
       "min           0.000000         0.000000             0.000000   \n",
       "25%           0.000000         0.000000             0.000000   \n",
       "50%           0.000000         0.000000             0.000000   \n",
       "75%           1.000000         1.000000             0.000000   \n",
       "max          19.000000        26.000000            17.000000   \n",
       "\n",
       "       harsh_speeding_sec  harsh_speeding_cnt      begin_odo        end_odo  \\\n",
       "count        30744.000000        30744.000000   30744.000000   30744.000000   \n",
       "mean             6.994796            0.366836   46657.786878   46673.031362   \n",
       "std             56.056302            2.481122   40023.374972   40026.507469   \n",
       "min              0.000000            0.000000      35.422000      41.656000   \n",
       "25%              0.000000            0.000000   14967.878750   14986.133000   \n",
       "50%              0.000000            0.000000   37879.000000   37889.414000   \n",
       "75%              0.000000            0.000000   66720.305000   66726.722500   \n",
       "max           1848.000000           67.000000  353702.656000  353711.438000   \n",
       "\n",
       "           sidle_sec      eidle_sec    rdrive_sec  latched_sec  unlatched_sec  \\\n",
       "count   30744.000000   30744.000000  30744.000000  30744.00000   30744.000000   \n",
       "mean    15768.677693   15492.600377     10.106395    868.67096      68.753936   \n",
       "std     37887.577691   37593.142592    209.600419   1108.25552     347.935584   \n",
       "min        -1.000000      -1.000000      0.000000      0.00000       0.000000   \n",
       "25%        -1.000000      -1.000000      0.000000    219.00000       0.000000   \n",
       "50%        -1.000000      -1.000000      0.000000    568.00000       5.000000   \n",
       "75%     14823.250000   14360.000000      0.000000   1172.25000      35.000000   \n",
       "max    778544.000000  778591.000000  14400.000000  32255.00000   30598.000000   \n",
       "\n",
       "             dscore       soffset       eoffset  \n",
       "count  30725.000000  30744.000000  30744.000000  \n",
       "mean      72.353165     -5.770557     -5.770654  \n",
       "std       64.165791      1.410592      1.410504  \n",
       "min     -994.000000    -10.000000    -10.000000  \n",
       "25%       85.000000     -7.000000     -7.000000  \n",
       "50%       89.000000     -7.000000     -7.000000  \n",
       "75%       94.000000     -4.000000     -4.000000  \n",
       "max      100.000000     -2.000000     -2.000000  "
      ]
     },
     "execution_count": 4,
     "metadata": {},
     "output_type": "execute_result"
    }
   ],
   "source": [
    "df1.shape\n",
    "df1.describe()"
   ]
  },
  {
   "cell_type": "code",
   "execution_count": 5,
   "metadata": {},
   "outputs": [
    {
     "data": {
      "image/png": "[encoded data removed]",
      "text/plain": [
       "<Figure size 900x900 with 30 Axes>"
      ]
     },
     "metadata": {},
     "output_type": "display_data"
    }
   ],
   "source": [
    "\n",
    "data1 = df1[['dscore','harsh_brake_ctr','harsh_brake_sec','harsh_sev_brake_sec','rdrive_sec']]\n",
    "import seaborn as sns\n",
    "\n",
    "sns.set(style=\"ticks\", color_codes=True)\n",
    "g = sns.pairplot(data1)\n",
    "plt.show() \n"
   ]
  },
  {
   "cell_type": "code",
   "execution_count": 6,
   "metadata": {},
   "outputs": [
    {
     "name": "stdout",
     "output_type": "stream",
     "text": [
      "-994.0\n",
      "100.0\n"
     ]
    }
   ],
   "source": [
    "min = data1['dscore'].min()\n",
    "print (min)\n",
    "max = data1['dscore'].max()\n",
    "print (max)"
   ]
  },
  {
   "cell_type": "code",
   "execution_count": 7,
   "metadata": {},
   "outputs": [
    {
     "name": "stdout",
     "output_type": "stream",
     "text": [
      "30744\n",
      "5\n"
     ]
    }
   ],
   "source": [
    "r, c = data1.shape\n",
    "print(r)\n",
    "print ( c)"
   ]
  },
  {
   "cell_type": "code",
   "execution_count": 8,
   "metadata": {},
   "outputs": [
    {
     "name": "stdout",
     "output_type": "stream",
     "text": [
      "30744\n",
      "5\n",
      "28863\n",
      "5\n"
     ]
    }
   ],
   "source": [
    "###clear empty rows\n",
    "data2 = data1.dropna(subset = [\"dscore\"])\n",
    "r, c = data1.shape\n",
    "print(r)\n",
    "print ( c)\n",
    "###pick only 0 and above\n",
    "data3 = data2[data2 [\"dscore\"] >= 0]\n",
    "r, c = data3.shape\n",
    "print(r)\n",
    "print ( c)\n"
   ]
  },
  {
   "cell_type": "code",
   "execution_count": 9,
   "metadata": {},
   "outputs": [
    {
     "data": {
      "text/html": [
       "<div>\n",
       "<style scoped>\n",
       "    .dataframe tbody tr th:only-of-type {\n",
       "        vertical-align: middle;\n",
       "    }\n",
       "\n",
       "    .dataframe tbody tr th {\n",
       "        vertical-align: top;\n",
       "    }\n",
       "\n",
       "    .dataframe thead th {\n",
       "        text-align: right;\n",
       "    }\n",
       "</style>\n",
       "<table border=\"1\" class=\"dataframe\">\n",
       "  <thead>\n",
       "    <tr style=\"text-align: right;\">\n",
       "      <th></th>\n",
       "      <th>dscore</th>\n",
       "      <th>harsh_brake_ctr</th>\n",
       "      <th>harsh_brake_sec</th>\n",
       "      <th>harsh_sev_brake_sec</th>\n",
       "      <th>rdrive_sec</th>\n",
       "    </tr>\n",
       "  </thead>\n",
       "  <tbody>\n",
       "    <tr>\n",
       "      <th>count</th>\n",
       "      <td>5000.000000</td>\n",
       "      <td>5000.000000</td>\n",
       "      <td>5000.000000</td>\n",
       "      <td>5000.000000</td>\n",
       "      <td>5000.000000</td>\n",
       "    </tr>\n",
       "    <tr>\n",
       "      <th>mean</th>\n",
       "      <td>84.942400</td>\n",
       "      <td>0.304600</td>\n",
       "      <td>0.412400</td>\n",
       "      <td>0.083200</td>\n",
       "      <td>8.427000</td>\n",
       "    </tr>\n",
       "    <tr>\n",
       "      <th>std</th>\n",
       "      <td>15.882063</td>\n",
       "      <td>0.701653</td>\n",
       "      <td>0.992836</td>\n",
       "      <td>0.359866</td>\n",
       "      <td>132.680452</td>\n",
       "    </tr>\n",
       "    <tr>\n",
       "      <th>min</th>\n",
       "      <td>1.000000</td>\n",
       "      <td>0.000000</td>\n",
       "      <td>0.000000</td>\n",
       "      <td>0.000000</td>\n",
       "      <td>0.000000</td>\n",
       "    </tr>\n",
       "    <tr>\n",
       "      <th>25%</th>\n",
       "      <td>89.000000</td>\n",
       "      <td>0.000000</td>\n",
       "      <td>0.000000</td>\n",
       "      <td>0.000000</td>\n",
       "      <td>0.000000</td>\n",
       "    </tr>\n",
       "    <tr>\n",
       "      <th>50%</th>\n",
       "      <td>89.000000</td>\n",
       "      <td>0.000000</td>\n",
       "      <td>0.000000</td>\n",
       "      <td>0.000000</td>\n",
       "      <td>0.000000</td>\n",
       "    </tr>\n",
       "    <tr>\n",
       "      <th>75%</th>\n",
       "      <td>94.000000</td>\n",
       "      <td>0.000000</td>\n",
       "      <td>0.000000</td>\n",
       "      <td>0.000000</td>\n",
       "      <td>0.000000</td>\n",
       "    </tr>\n",
       "    <tr>\n",
       "      <th>max</th>\n",
       "      <td>100.000000</td>\n",
       "      <td>7.000000</td>\n",
       "      <td>9.000000</td>\n",
       "      <td>4.000000</td>\n",
       "      <td>3584.000000</td>\n",
       "    </tr>\n",
       "  </tbody>\n",
       "</table>\n",
       "</div>"
      ],
      "text/plain": [
       "            dscore  harsh_brake_ctr  harsh_brake_sec  harsh_sev_brake_sec  \\\n",
       "count  5000.000000      5000.000000      5000.000000          5000.000000   \n",
       "mean     84.942400         0.304600         0.412400             0.083200   \n",
       "std      15.882063         0.701653         0.992836             0.359866   \n",
       "min       1.000000         0.000000         0.000000             0.000000   \n",
       "25%      89.000000         0.000000         0.000000             0.000000   \n",
       "50%      89.000000         0.000000         0.000000             0.000000   \n",
       "75%      94.000000         0.000000         0.000000             0.000000   \n",
       "max     100.000000         7.000000         9.000000             4.000000   \n",
       "\n",
       "        rdrive_sec  \n",
       "count  5000.000000  \n",
       "mean      8.427000  \n",
       "std     132.680452  \n",
       "min       0.000000  \n",
       "25%       0.000000  \n",
       "50%       0.000000  \n",
       "75%       0.000000  \n",
       "max    3584.000000  "
      ]
     },
     "execution_count": 9,
     "metadata": {},
     "output_type": "execute_result"
    }
   ],
   "source": [
    "from sklearn.utils import resample\n",
    "# pick 5K rows..\n",
    "poc = resample(data3, n_samples=5000)\n",
    "poc.describe()\n"
   ]
  },
  {
   "cell_type": "code",
   "execution_count": 10,
   "metadata": {},
   "outputs": [
    {
     "name": "stdout",
     "output_type": "stream",
     "text": [
      "1.0\n",
      "100.0\n"
     ]
    },
    {
     "data": {
      "text/plain": [
       "(5000, 5)"
      ]
     },
     "execution_count": 10,
     "metadata": {},
     "output_type": "execute_result"
    }
   ],
   "source": [
    "##For now, let's focus on good scores \n",
    "min = poc['dscore'].min()\n",
    "print (min)\n",
    "max = poc['dscore'].max()\n",
    "print (max)\n",
    "poc.shape"
   ]
  },
  {
   "cell_type": "code",
   "execution_count": 11,
   "metadata": {},
   "outputs": [],
   "source": [
    "cdf = poc[['dscore','harsh_brake_ctr','harsh_brake_sec','harsh_sev_brake_sec','rdrive_sec']]"
   ]
  },
  {
   "cell_type": "code",
   "execution_count": 12,
   "metadata": {},
   "outputs": [
    {
     "data": {
      "text/html": [
       "<div>\n",
       "<style scoped>\n",
       "    .dataframe tbody tr th:only-of-type {\n",
       "        vertical-align: middle;\n",
       "    }\n",
       "\n",
       "    .dataframe tbody tr th {\n",
       "        vertical-align: top;\n",
       "    }\n",
       "\n",
       "    .dataframe thead th {\n",
       "        text-align: right;\n",
       "    }\n",
       "</style>\n",
       "<table border=\"1\" class=\"dataframe\">\n",
       "  <thead>\n",
       "    <tr style=\"text-align: right;\">\n",
       "      <th></th>\n",
       "      <th>dscore</th>\n",
       "      <th>harsh_brake_ctr</th>\n",
       "      <th>harsh_brake_sec</th>\n",
       "      <th>harsh_sev_brake_sec</th>\n",
       "      <th>rdrive_sec</th>\n",
       "    </tr>\n",
       "  </thead>\n",
       "  <tbody>\n",
       "    <tr>\n",
       "      <th>27586</th>\n",
       "      <td>89.0</td>\n",
       "      <td>0</td>\n",
       "      <td>0</td>\n",
       "      <td>0</td>\n",
       "      <td>0</td>\n",
       "    </tr>\n",
       "    <tr>\n",
       "      <th>4552</th>\n",
       "      <td>94.0</td>\n",
       "      <td>0</td>\n",
       "      <td>0</td>\n",
       "      <td>0</td>\n",
       "      <td>0</td>\n",
       "    </tr>\n",
       "    <tr>\n",
       "      <th>28172</th>\n",
       "      <td>89.0</td>\n",
       "      <td>0</td>\n",
       "      <td>0</td>\n",
       "      <td>0</td>\n",
       "      <td>0</td>\n",
       "    </tr>\n",
       "    <tr>\n",
       "      <th>21923</th>\n",
       "      <td>94.0</td>\n",
       "      <td>0</td>\n",
       "      <td>0</td>\n",
       "      <td>0</td>\n",
       "      <td>0</td>\n",
       "    </tr>\n",
       "    <tr>\n",
       "      <th>6264</th>\n",
       "      <td>89.0</td>\n",
       "      <td>0</td>\n",
       "      <td>0</td>\n",
       "      <td>0</td>\n",
       "      <td>0</td>\n",
       "    </tr>\n",
       "  </tbody>\n",
       "</table>\n",
       "</div>"
      ],
      "text/plain": [
       "       dscore  harsh_brake_ctr  harsh_brake_sec  harsh_sev_brake_sec  \\\n",
       "27586    89.0                0                0                    0   \n",
       "4552     94.0                0                0                    0   \n",
       "28172    89.0                0                0                    0   \n",
       "21923    94.0                0                0                    0   \n",
       "6264     89.0                0                0                    0   \n",
       "\n",
       "       rdrive_sec  \n",
       "27586           0  \n",
       "4552            0  \n",
       "28172           0  \n",
       "21923           0  \n",
       "6264            0  "
      ]
     },
     "execution_count": 12,
     "metadata": {},
     "output_type": "execute_result"
    }
   ],
   "source": [
    "cdf.head(5)"
   ]
  },
  {
   "cell_type": "code",
   "execution_count": 13,
   "metadata": {},
   "outputs": [],
   "source": [
    "from sklearn.model_selection import train_test_split\n",
    "\n",
    "x = cdf.drop(columns='dscore')\n",
    "y = cdf['dscore']\n",
    "x_train, x_test, y_train, y_test = train_test_split(x, y, test_size=0.2, random_state=4)"
   ]
  },
  {
   "cell_type": "code",
   "execution_count": 14,
   "metadata": {},
   "outputs": [
    {
     "name": "stdout",
     "output_type": "stream",
     "text": [
      "X_test shape: (1000, 4)\n",
      "y_test shape: (1000,)\n"
     ]
    }
   ],
   "source": [
    "print(\"X_test shape:\", x_test.shape)\n",
    "print(\"y_test shape:\", y_test.shape)"
   ]
  },
  {
   "cell_type": "code",
   "execution_count": 15,
   "metadata": {},
   "outputs": [
    {
     "name": "stdout",
     "output_type": "stream",
     "text": [
      "X_train shape: (4000, 4)\n",
      "y_train shape: (4000,)\n"
     ]
    }
   ],
   "source": [
    "print(\"X_train shape:\", x_train.shape)\n",
    "print(\"y_train shape:\", y_train.shape)"
   ]
  },
  {
   "cell_type": "code",
   "execution_count": 16,
   "metadata": {},
   "outputs": [],
   "source": [
    "from sklearn import preprocessing\n",
    "\n",
    "min_max_scaler = preprocessing.MinMaxScaler()\n",
    "x_scaled = min_max_scaler.fit_transform(x)\n",
    "df = pd.DataFrame(x_scaled)\n"
   ]
  },
  {
   "cell_type": "code",
   "execution_count": 17,
   "metadata": {
    "scrolled": true
   },
   "outputs": [
    {
     "name": "stdout",
     "output_type": "stream",
     "text": [
      "Coefficients: [ -2.68447666  -7.01155876 -20.45269935  -0.02333065]\n",
      "Intercept:  90.56449204265077\n"
     ]
    }
   ],
   "source": [
    "### y = c+ m1.x1 +m2.x2 + m3.x3\n",
    "### y is score. m1 coefficient for ha(indepennt/feature..) m2..HB....\n",
    "\n",
    "from sklearn import linear_model\n",
    "regr = linear_model.LinearRegression()\n",
    "\n",
    "regr.fit(x_train, y_train)\n",
    "\n",
    "# The coefficients\n",
    "print('Coefficients:', regr.coef_)\n",
    "print('Intercept: ', regr.intercept_)"
   ]
  },
  {
   "cell_type": "code",
   "execution_count": 18,
   "metadata": {},
   "outputs": [
    {
     "data": {
      "text/html": [
       "<div>\n",
       "<style scoped>\n",
       "    .dataframe tbody tr th:only-of-type {\n",
       "        vertical-align: middle;\n",
       "    }\n",
       "\n",
       "    .dataframe tbody tr th {\n",
       "        vertical-align: top;\n",
       "    }\n",
       "\n",
       "    .dataframe thead th {\n",
       "        text-align: right;\n",
       "    }\n",
       "</style>\n",
       "<table border=\"1\" class=\"dataframe\">\n",
       "  <thead>\n",
       "    <tr style=\"text-align: right;\">\n",
       "      <th></th>\n",
       "      <th>coeffic</th>\n",
       "    </tr>\n",
       "  </thead>\n",
       "  <tbody>\n",
       "    <tr>\n",
       "      <th>harsh_brake_ctr</th>\n",
       "      <td>-2.684477</td>\n",
       "    </tr>\n",
       "    <tr>\n",
       "      <th>harsh_brake_sec</th>\n",
       "      <td>-7.011559</td>\n",
       "    </tr>\n",
       "    <tr>\n",
       "      <th>harsh_sev_brake_sec</th>\n",
       "      <td>-20.452699</td>\n",
       "    </tr>\n",
       "    <tr>\n",
       "      <th>rdrive_sec</th>\n",
       "      <td>-0.023331</td>\n",
       "    </tr>\n",
       "  </tbody>\n",
       "</table>\n",
       "</div>"
      ],
      "text/plain": [
       "                       coeffic\n",
       "harsh_brake_ctr      -2.684477\n",
       "harsh_brake_sec      -7.011559\n",
       "harsh_sev_brake_sec -20.452699\n",
       "rdrive_sec           -0.023331"
      ]
     },
     "execution_count": 18,
     "metadata": {},
     "output_type": "execute_result"
    }
   ],
   "source": [
    "cdf_df = pd.DataFrame(regr.coef_,x_test.columns,columns=['coeffic'])\n",
    "cdf_df"
   ]
  },
  {
   "cell_type": "code",
   "execution_count": 19,
   "metadata": {},
   "outputs": [
    {
     "data": {
      "text/plain": [
       "0.8163853528995038"
      ]
     },
     "execution_count": 19,
     "metadata": {},
     "output_type": "execute_result"
    }
   ],
   "source": [
    "regr.score(x_test, y_test)"
   ]
  },
  {
   "cell_type": "code",
   "execution_count": 20,
   "metadata": {},
   "outputs": [
    {
     "data": {
      "text/plain": [
       "numpy.ndarray"
      ]
     },
     "execution_count": 20,
     "metadata": {},
     "output_type": "execute_result"
    }
   ],
   "source": [
    "from sklearn.metrics import r2_score\n",
    "y_test_pred = regr.predict(x_test)\n",
    "type(y_test_pred)"
   ]
  },
  {
   "cell_type": "code",
   "execution_count": 21,
   "metadata": {},
   "outputs": [
    {
     "name": "stdout",
     "output_type": "stream",
     "text": [
      "Mean absolute error: 47.85665161042608\n",
      "R2-score: 0.8163853528995038\n"
     ]
    }
   ],
   "source": [
    "### now let's try errors\n",
    "from sklearn.metrics import  mean_squared_error,r2_score\n",
    "mse= mean_squared_error(y_test,y_test_pred)\n",
    "r_squared = r2_score(y_test,y_test_pred)\n",
    "\n",
    "print(\"Mean absolute error:\",mse)\n",
    "print(\"R2-score:\",r_squared)"
   ]
  },
  {
   "cell_type": "code",
   "execution_count": 22,
   "metadata": {},
   "outputs": [
    {
     "data": {
      "text/plain": [
       "<matplotlib.axes._subplots.AxesSubplot at 0x1ed9b7b9ac8>"
      ]
     },
     "execution_count": 22,
     "metadata": {},
     "output_type": "execute_result"
    },
    {
     "data": {
      "image/png": "[encoded data removed]",
      "text/plain": [
       "<Figure size 432x288 with 1 Axes>"
      ]
     },
     "metadata": {},
     "output_type": "display_data"
    }
   ],
   "source": [
    "display = pd.DataFrame({\"Actual\": y_test, \"Predict\": y_test_pred}).head()\n",
    "display.plot()"
   ]
  },
  {
   "cell_type": "code",
   "execution_count": 23,
   "metadata": {},
   "outputs": [
    {
     "name": "stdout",
     "output_type": "stream",
     "text": [
      "Training set score: 0.84\n",
      "Test set score: 0.82\n"
     ]
    }
   ],
   "source": [
    "print(\"Training set score: {:.2f}\".format(regr.score(x_train, y_train)))\n",
    "print(\"Test set score: {:.2f}\".format(regr.score(x_test, y_test)))"
   ]
  },
  {
   "cell_type": "code",
   "execution_count": 24,
   "metadata": {},
   "outputs": [
    {
     "name": "stdout",
     "output_type": "stream",
     "text": [
      "Training set score: 0.84\n",
      "Test set score: 0.82\n"
     ]
    }
   ],
   "source": [
    "#Math Ridge penalizes the squared L2 norm of the coeff,,distance...\n",
    "\n",
    "from sklearn.linear_model import Ridge\n",
    "\n",
    "ridge = Ridge().fit(x_train, y_train)\n",
    "print(\"Training set score: {:.2f}\".format(ridge.score(x_train, y_train)))\n",
    "print(\"Test set score: {:.2f}\".format(ridge.score(x_test, y_test)))"
   ]
  },
  {
   "cell_type": "code",
   "execution_count": 25,
   "metadata": {},
   "outputs": [
    {
     "name": "stdout",
     "output_type": "stream",
     "text": [
      "Training set score: 0.80\n",
      "Test set score: 0.78\n",
      "Number of features used: 3\n"
     ]
    }
   ],
   "source": [
    "##Math...lasso penalizes the L1 norm of the coefficient vector\n",
    "\n",
    "from sklearn.linear_model import Lasso\n",
    "\n",
    "lasso = Lasso().fit(x_train, y_train)\n",
    "print(\"Training set score: {:.2f}\".format(lasso.score(x_train, y_train)))\n",
    "print(\"Test set score: {:.2f}\".format(lasso.score(x_test, y_test)))\n",
    "print(\"Number of features used:\", np.sum(lasso.coef_ != 0))"
   ]
  },
  {
   "cell_type": "code",
   "execution_count": 26,
   "metadata": {},
   "outputs": [
    {
     "name": "stdout",
     "output_type": "stream",
     "text": [
      "Training set score: 0.565\n",
      "Test set score: 0.580\n"
     ]
    },
    {
     "name": "stderr",
     "output_type": "stream",
     "text": [
      "C:\\Users\\Rammu\\anaconda3\\lib\\site-packages\\sklearn\\linear_model\\_logistic.py:940: ConvergenceWarning: lbfgs failed to converge (status=1):\n",
      "STOP: TOTAL NO. of ITERATIONS REACHED LIMIT.\n",
      "\n",
      "Increase the number of iterations (max_iter) or scale the data as shown in:\n",
      "    https://scikit-learn.org/stable/modules/preprocessing.html\n",
      "Please also refer to the documentation for alternative solver options:\n",
      "    https://scikit-learn.org/stable/modules/linear_model.html#logistic-regression\n",
      "  extra_warning_msg=_LOGISTIC_SOLVER_CONVERGENCE_MSG)\n"
     ]
    }
   ],
   "source": [
    "from sklearn.linear_model import LogisticRegression\n",
    "\n",
    "logreg = LogisticRegression().fit(x_train, y_train)\n",
    "print(\"Training set score: {:.3f}\".format(logreg.score(x_train, y_train)))\n",
    "print(\"Test set score: {:.3f}\".format(logreg.score(x_test, y_test)))"
   ]
  },
  {
   "cell_type": "code",
   "execution_count": 27,
   "metadata": {},
   "outputs": [
    {
     "name": "stdout",
     "output_type": "stream",
     "text": [
      "Training set score: 0.565\n",
      "Test set score: 0.580\n"
     ]
    }
   ],
   "source": [
    "from sklearn.tree import DecisionTreeRegressor\n",
    "dtr = DecisionTreeRegressor(random_state = 101)\n",
    "dtr.fit(x_train,y_train)\n",
    "y_test_pre = dtr.predict(x_test) \n",
    "\n",
    "print(\"Training set score: {:.3f}\".format(logreg.score(x_train, y_train)))\n",
    "print(\"Test set score: {:.3f}\".format(logreg.score(x_test, y_test)))\n"
   ]
  },
  {
   "cell_type": "code",
   "execution_count": 28,
   "metadata": {},
   "outputs": [
    {
     "name": "stdout",
     "output_type": "stream",
     "text": [
      "Training set score: 0.565\n",
      "Test set score: 0.580\n"
     ]
    }
   ],
   "source": [
    "from sklearn.ensemble import RandomForestRegressor\n",
    "rfr = RandomForestRegressor(n_estimators = 100, random_state = 101)\n",
    "\n",
    "rfr.fit(x_train,y_train)\n",
    "y_test_pre = dtr.predict(x_test) \n",
    "\n",
    "print(\"Training set score: {:.3f}\".format(logreg.score(x_train, y_train)))\n",
    "print(\"Test set score: {:.3f}\".format(logreg.score(x_test, y_test)))"
   ]
  },
  {
   "cell_type": "code",
   "execution_count": 29,
   "metadata": {},
   "outputs": [],
   "source": [
    "###Based on docs actually possible to make good forecasts with tree-based models...\n",
    "###try risk_time in to mix\n",
    "##for tomorrow. 11PM."
   ]
  },
  {
   "cell_type": "code",
   "execution_count": null,
   "metadata": {},
   "outputs": [],
   "source": []
  }
 ],
 "metadata": {
  "kernelspec": {
   "display_name": "Python 3",
   "language": "python",
   "name": "python3"
  },
  "language_info": {
   "codemirror_mode": {
    "name": "ipython",
    "version": 3
   },
   "file_extension": ".py",
   "mimetype": "text/x-python",
   "name": "python",
   "nbconvert_exporter": "python",
   "pygments_lexer": "ipython3",
   "version": "3.7.6"
  }
 },
 "nbformat": 4,
 "nbformat_minor": 4
}
